{
 "cells": [
  {
   "cell_type": "markdown",
   "metadata": {},
   "source": [
    "# <font color=blue> Necessary Modules"
   ]
  },
  {
   "cell_type": "code",
   "execution_count": 1,
   "metadata": {},
   "outputs": [],
   "source": [
    "import numpy as np\n",
    "from scipy.optimize import minimize\n",
    "from scipy.io import loadmat\n",
    "from math import sqrt\n",
    "import time\n",
    "import pickle\n",
    "import matplotlib.pyplot as plt\n",
    "import pandas as pd"
   ]
  },
  {
   "cell_type": "markdown",
   "metadata": {},
   "source": [
    "# <font color=blue> Initialize Weights "
   ]
  },
  {
   "cell_type": "code",
   "execution_count": 2,
   "metadata": {},
   "outputs": [],
   "source": [
    "def initializeWeights(n_in, n_out):\n",
    "    epsilon = sqrt(6) / sqrt(n_in + n_out + 1)\n",
    "    W = (np.random.rand(n_out, n_in + 1) * 2 * epsilon) - epsilon\n",
    "    return W"
   ]
  },
  {
   "cell_type": "markdown",
   "metadata": {},
   "source": [
    "# <font color=blue> Activation Function"
   ]
  },
  {
   "cell_type": "code",
   "execution_count": 3,
   "metadata": {},
   "outputs": [],
   "source": [
    "def sigmoid(z):\n",
    "    return (1.0 / (1.0 + np.exp(-z)))"
   ]
  },
  {
   "cell_type": "code",
   "execution_count": 4,
   "metadata": {},
   "outputs": [],
   "source": [
    "def sigmoid_derivative(z):\n",
    "    sigm = 1.0 / (1.0 + np.exp(-z))\n",
    "    return sigm * (1.0 - sigm)\n",
    "    "
   ]
  },
  {
   "cell_type": "markdown",
   "metadata": {},
   "source": [
    "# <font color=blue> Feature reduction and Preprocessing Data"
   ]
  },
  {
   "cell_type": "code",
   "execution_count": 5,
   "metadata": {},
   "outputs": [],
   "source": [
    "def feature_indices(boolean_value):\n",
    "    \n",
    "    featureCount = 0\n",
    "    global featureIndices\n",
    "    \n",
    "    for i in range(len(boolean_value)):\n",
    "        if boolean_value[i]==False:\n",
    "            featureCount += 1\n",
    "            featureIndices.append(i)\n",
    "            print(i,end =\" \")\n",
    "    print(\" \")\n",
    "    print(\"Total number of selected features : \", featureCount)"
   ]
  },
  {
   "cell_type": "code",
   "execution_count": 6,
   "metadata": {},
   "outputs": [],
   "source": [
    "def preprocess():\n",
    "    # loads the MAT object as a Dictionary\n",
    "    mnist = loadmat('mnist_all.mat') \n",
    "\n",
    "    # Split the training sets into two sets of 50000 randomly sampled training examples & 10000 validation examples. \n",
    "    \n",
    "                    ############## TRAIN DATA ############\n",
    "    tmp = []\n",
    "    for i in range(10):\n",
    "        idx = 'train'+ str(i)\n",
    "        train_mat = mnist[idx]\n",
    "        labels = np.full((train_mat.shape[0],1),i)\n",
    "        labeled_train_mat = np.concatenate((train_mat,labels),axis=1)\n",
    "        tmp.append(labeled_train_mat)\n",
    "\n",
    "    all_labeled_train = np.concatenate((tmp[0],tmp[1],tmp[2],tmp[3],tmp[4],tmp[5],tmp[6],tmp[7],tmp[8],tmp[9]), axis=0)\n",
    "    \n",
    "    np.random.shuffle(all_labeled_train)\n",
    "    \n",
    "    labeled_train = all_labeled_train[0:50000,:]\n",
    "    train_data    = labeled_train[:,0:784]\n",
    "    train_label   = labeled_train[:,784]\n",
    "\n",
    "    train_data = train_data / 255.0\n",
    "\n",
    "    labeled_validation = all_labeled_train[50000:60000,:]\n",
    "    validation_data    = labeled_validation[:,0:784] \n",
    "    validation_label   = labeled_validation[:,784]\n",
    "\n",
    "    validation_data = validation_data / 255.0  \n",
    "    \n",
    "                ############## TEST DATA ############\n",
    "    tmp1 = []\n",
    "    for i in range(10):\n",
    "        idx = 'test'+ str(i)\n",
    "        test_mat = mnist[idx]\n",
    "        labels = np.full((test_mat.shape[0],1),i)\n",
    "        labeled_test_mat = np.concatenate((test_mat,labels),axis=1)\n",
    "        tmp1.append(labeled_test_mat)\n",
    "\n",
    "    all_labeled_test = np.concatenate((tmp1[0],tmp1[1],tmp1[2],tmp1[3],tmp1[4],tmp1[5],tmp1[6],tmp1[7],tmp1[8],tmp1[9]), axis=0)\n",
    "\n",
    "    np.random.shuffle(all_labeled_test)\n",
    "    \n",
    "    test_data    = all_labeled_test[:,0:784]\n",
    "    test_label   = all_labeled_test[:,784]\n",
    "\n",
    "    test_data = test_data / 255.0\n",
    "\n",
    "    # Feature selection\n",
    "    \n",
    "    combined  = np.concatenate((train_data, validation_data),axis=0)\n",
    "    reference = combined[0,:]\n",
    "    boolean_value_columns = np.all(combined == reference, axis = 0)\n",
    "    \n",
    "    # Print the selected features\n",
    "    feature_indices(boolean_value_columns)\n",
    "    \n",
    "    final = combined[:,~boolean_value_columns]\n",
    "    \n",
    "    tr_R = train_data.shape[0]\n",
    "    vl_R = validation_data.shape[0]\n",
    "\n",
    "    \n",
    "    train_data      = final[0:tr_R,:]\n",
    "    validation_data = final[tr_R:,:]\n",
    "    test_data = test_data[:,~boolean_value_columns]\n",
    "    \n",
    "    return train_data, train_label, validation_data, validation_label, test_data, test_label\n",
    "    \n"
   ]
  },
  {
   "cell_type": "markdown",
   "metadata": {},
   "source": [
    "# <font color=blue> Neural Network Backbone Structure"
   ]
  },
  {
   "cell_type": "code",
   "execution_count": 7,
   "metadata": {},
   "outputs": [],
   "source": [
    "def nnObjFunction(params, *args):\n",
    "    \n",
    "    n_input, n_hidden, n_class, training_data, training_label, lambdaval = args\n",
    "\n",
    "    w1 = params[0:n_hidden * (n_input + 1)].reshape((n_hidden, (n_input + 1)))\n",
    "    w2 = params[(n_hidden * (n_input + 1)):].reshape((n_class, (n_hidden + 1)))\n",
    "    \n",
    "    obj_val = 0\n",
    "    n = training_data.shape[0]\n",
    "    ''' \n",
    "                                Step 01: Feedforward Propagation \n",
    "    '''\n",
    "    \n",
    "    '''Input Layer --> Hidden Layer\n",
    "    '''\n",
    "    # Adding bias node to every training data. Here, the bias value is 1 for every training data\n",
    "    # A training data is a feature vector X. \n",
    "    # We have 717 features for every training data\n",
    "\n",
    "    biases1 = np.full((n,1), 1)\n",
    "    training_data_bias = np.concatenate((biases1, training_data),axis=1)\n",
    "    \n",
    "    # aj is the linear combination of input data and weight (w1) at jth hidden node. \n",
    "    # Here, 1 <= j <= no_of_hidden_units\n",
    "    aj = np.dot( training_data_bias, np.transpose(w1))\n",
    "    \n",
    "    # zj is the output from the hidden unit j after applying sigmoid as an activation function\n",
    "    zj = sigmoid(aj)\n",
    "    \n",
    "    '''Hidden Layer --> Output Layer\n",
    "    '''\n",
    "    \n",
    "    # Adding bias node to every zj. \n",
    "    \n",
    "    m = zj.shape[0]\n",
    "    \n",
    "    biases2 = np.full((m,1), 1)\n",
    "    zj_bias = np.concatenate((biases2, zj), axis=1)\n",
    "    \n",
    "    # bl is the linear combination of hidden units output and weight(w2) at lth output node. \n",
    "    # Here, l = 10 as we are classifying 10 digits\n",
    "    bl = np.dot(zj_bias, np.transpose(w2))\n",
    "    ol = sigmoid(bl)\n",
    "    \n",
    "    ''' \n",
    "                            Step 2:  Error Calculation by error function\n",
    "    '''\n",
    "    # yl --> Ground truth for every training dataset\n",
    "    yl = np.full((n, n_class), 0)\n",
    "\n",
    "    for i in range(n):\n",
    "        trueLabel = training_label[i]\n",
    "        yl[i][trueLabel] = 1\n",
    "    \n",
    "    yl_prime = (1.0-yl)\n",
    "    ol_prime = (1.0-ol)\n",
    "    \n",
    "    lol = np.log(ol)\n",
    "    lol_prime = np.log(ol_prime)\n",
    "    \n",
    "    # Our Error function is \"negative log-likelihood\"\n",
    "    # We need elementwise multiplication between the matrices\n",
    "    \n",
    "    error = np.sum( np.multiply(yl,lol) + np.multiply(yl_prime,lol_prime) )/((-1)*n)\n",
    "\n",
    "#     error = -np.sum( np.sum(yl*lol + yl_prime*lol_prime, 1))/ n\n",
    "    \n",
    "    ''' \n",
    "                         Step 03: Gradient Calculation for Backpropagation of error\n",
    "    '''\n",
    "    \n",
    "    delta = ol- yl\n",
    "    gradient_w2 = np.dot(delta.T, zj_bias)\n",
    "   \n",
    "    temp = np.dot(delta,w2) * ( zj_bias * (1.0-zj_bias))\n",
    "    \n",
    "    gradient_w1 = np.dot( np.transpose(temp), training_data_bias)\n",
    "    gradient_w1 = gradient_w1[1:, :]\n",
    "    \n",
    "    ''' \n",
    "                                Step 04: Regularization \n",
    "    '''\n",
    "    regularization =  lambdaval * (np.sum(w1**2) + np.sum(w2**2)) / (2*n)\n",
    "    obj_val = error + regularization\n",
    "    \n",
    "    gradient_w1_reg = (gradient_w1 + lambdaval * w1)/n\n",
    "    gradient_w2_reg = (gradient_w2 + lambdaval * w2)/n\n",
    "\n",
    "    obj_grad = np.concatenate((gradient_w1_reg.flatten(), gradient_w2_reg.flatten()), 0)\n",
    "\n",
    "    return (obj_val, obj_grad)"
   ]
  },
  {
   "cell_type": "markdown",
   "metadata": {},
   "source": [
    "# <font color=blue> Prediction "
   ]
  },
  {
   "cell_type": "code",
   "execution_count": 8,
   "metadata": {},
   "outputs": [],
   "source": [
    "def nnPredict(w1, w2, training_data):\n",
    "\n",
    "    n = training_data.shape[0]\n",
    "\n",
    "    biases1 = np.full((n,1),1)\n",
    "    training_data = np.concatenate((biases1, training_data), axis=1)\n",
    "\n",
    "    aj = np.dot(training_data, w1.T)\n",
    "    zj = sigmoid(aj)\n",
    "    \n",
    "    m = zj.shape[0]\n",
    "    \n",
    "    biases2 = np.full((m,1), 1)\n",
    "    zj = np.concatenate((biases2, zj), axis=1)\n",
    "\n",
    "    bl = np.dot(zj, w2.T)\n",
    "    ol = sigmoid(bl)\n",
    "\n",
    "    labels = np.argmax(ol, axis=1)\n",
    "\n",
    "    return labels"
   ]
  },
  {
   "cell_type": "markdown",
   "metadata": {},
   "source": [
    "# <font color=red> Main Script of For running the Neural Network"
   ]
  },
  {
   "cell_type": "code",
   "execution_count": 9,
   "metadata": {},
   "outputs": [
    {
     "name": "stdout",
     "output_type": "stream",
     "text": [
      "12 13 14 15 32 33 34 35 36 37 38 39 40 41 42 43 44 45 46 47 48 49 50 51 58 59 60 61 62 63 64 65 66 67 68 69 70 71 72 73 74 75 76 77 78 79 80 81 86 87 88 89 90 91 92 93 94 95 96 97 98 99 100 101 102 103 104 105 106 107 108 109 110 113 114 115 116 117 118 119 120 121 122 123 124 125 126 127 128 129 130 131 132 133 134 135 136 137 138 139 142 143 144 145 146 147 148 149 150 151 152 153 154 155 156 157 158 159 160 161 162 163 164 165 166 167 169 170 171 172 173 174 175 176 177 178 179 180 181 182 183 184 185 186 187 188 189 190 191 192 193 194 195 196 197 198 199 200 201 202 203 204 205 206 207 208 209 210 211 212 213 214 215 216 217 218 219 220 221 222 223 224 225 226 227 228 229 230 231 232 233 234 235 236 237 238 239 240 241 242 243 244 245 246 247 248 249 250 251 252 253 254 255 256 257 258 259 260 261 262 263 264 265 266 267 268 269 270 271 272 273 274 275 276 277 278 279 280 281 282 283 284 285 286 287 288 289 290 291 292 293 294 295 296 297 298 299 300 301 302 303 304 305 306 307 308 309 310 311 312 313 314 315 316 317 318 319 320 321 322 323 324 325 326 327 328 329 330 331 332 333 334 335 336 337 338 339 340 341 342 343 344 345 346 347 348 349 350 351 352 353 354 355 356 357 358 359 360 361 362 363 364 365 366 367 368 369 370 371 372 373 374 375 376 377 378 379 380 381 382 383 384 385 386 387 388 389 390 391 392 393 394 395 396 397 398 399 400 401 402 403 404 405 406 407 408 409 410 411 412 413 414 415 416 417 418 419 420 421 422 423 424 425 426 427 428 429 430 431 432 433 434 435 436 437 438 439 440 441 442 443 444 445 446 447 448 449 450 451 452 453 454 455 456 457 458 459 460 461 462 463 464 465 466 467 468 469 470 471 472 473 474 475 477 478 479 480 481 482 483 484 485 486 487 488 489 490 491 492 493 494 495 496 497 498 499 500 501 502 503 504 505 506 507 508 509 510 511 512 513 514 515 516 517 518 519 520 521 522 523 524 525 526 527 528 529 530 531 532 533 534 535 536 537 538 539 540 541 542 543 544 545 546 547 548 549 550 551 552 553 554 555 556 557 558 559 561 562 563 564 565 566 567 568 569 570 571 572 573 574 575 576 577 578 579 580 581 582 583 584 585 586 587 588 589 590 591 592 593 594 595 596 597 598 599 600 601 602 603 604 605 606 607 608 609 610 611 612 613 614 615 616 617 618 619 620 621 622 623 624 625 626 627 628 629 630 631 632 633 634 635 636 637 638 639 640 641 642 643 646 647 648 649 650 651 652 653 654 655 656 657 658 659 660 661 662 663 664 665 666 667 668 669 670 674 675 676 677 678 679 680 681 682 683 684 685 686 687 688 689 690 691 692 693 694 695 696 697 698 702 703 704 705 706 707 708 709 710 711 712 713 714 715 716 717 718 719 720 721 722 723 724 725 726 731 732 733 734 735 736 737 738 739 740 741 742 743 744 745 746 747 748 749 750 751 752 753 760 761 762 763 764 765 766 767 768 769 770 771 772 773 774 775 776 777 778 779  \n",
      "Total number of selected features :  717\n",
      "Training set Accuracy:52.16% || Validation set Accuracy:52.23% || Test set Accuracy:52.580000000000005% || λ= 0\n",
      "Training set Accuracy:88.492% || Validation set Accuracy:88.48% || Test set Accuracy:88.55% || λ= 0\n",
      "Training set Accuracy:91.314% || Validation set Accuracy:91.44% || Test set Accuracy:91.32000000000001% || λ= 0\n",
      "Training set Accuracy:92.814% || Validation set Accuracy:92.34% || Test set Accuracy:92.47999999999999% || λ= 0\n",
      "Training set Accuracy:92.908% || Validation set Accuracy:92.7% || Test set Accuracy:92.73% || λ= 0\n",
      "Training set Accuracy:64.056% || Validation set Accuracy:63.27% || Test set Accuracy:63.959999999999994% || λ= 10\n",
      "Training set Accuracy:88.934% || Validation set Accuracy:89.1% || Test set Accuracy:89.56% || λ= 10\n",
      "Training set Accuracy:92.378% || Validation set Accuracy:92.0% || Test set Accuracy:92.31% || λ= 10\n",
      "Training set Accuracy:92.78800000000001% || Validation set Accuracy:92.30000000000001% || Test set Accuracy:92.44% || λ= 10\n",
      "Training set Accuracy:93.53399999999999% || Validation set Accuracy:93.05% || Test set Accuracy:93.22% || λ= 10\n",
      "Training set Accuracy:70.43599999999999% || Validation set Accuracy:70.35% || Test set Accuracy:70.54% || λ= 20\n",
      "Training set Accuracy:84.674% || Validation set Accuracy:84.53% || Test set Accuracy:84.23% || λ= 20\n",
      "Training set Accuracy:92.05600000000001% || Validation set Accuracy:91.79% || Test set Accuracy:91.53% || λ= 20\n",
      "Training set Accuracy:93.244% || Validation set Accuracy:92.75% || Test set Accuracy:93.08% || λ= 20\n",
      "Training set Accuracy:93.406% || Validation set Accuracy:93.06% || Test set Accuracy:93.31% || λ= 20\n",
      "Training set Accuracy:70.15599999999999% || Validation set Accuracy:69.69999999999999% || Test set Accuracy:70.74000000000001% || λ= 30\n",
      "Training set Accuracy:89.932% || Validation set Accuracy:89.73% || Test set Accuracy:89.94% || λ= 30\n",
      "Training set Accuracy:92.116% || Validation set Accuracy:91.93% || Test set Accuracy:91.73% || λ= 30\n",
      "Training set Accuracy:92.562% || Validation set Accuracy:92.19000000000001% || Test set Accuracy:92.42% || λ= 30\n",
      "Training set Accuracy:93.598% || Validation set Accuracy:93.21000000000001% || Test set Accuracy:93.63% || λ= 30\n",
      "Training set Accuracy:54.652% || Validation set Accuracy:54.37% || Test set Accuracy:54.31% || λ= 40\n",
      "Training set Accuracy:87.468% || Validation set Accuracy:87.83% || Test set Accuracy:88.01% || λ= 40\n",
      "Training set Accuracy:91.814% || Validation set Accuracy:91.53% || Test set Accuracy:92.07% || λ= 40\n",
      "Training set Accuracy:92.67% || Validation set Accuracy:92.39% || Test set Accuracy:92.58% || λ= 40\n",
      "Training set Accuracy:92.73400000000001% || Validation set Accuracy:92.25% || Test set Accuracy:92.45% || λ= 40\n",
      "Training set Accuracy:66.764% || Validation set Accuracy:66.46% || Test set Accuracy:67.74% || λ= 50\n",
      "Training set Accuracy:90.158% || Validation set Accuracy:90.49000000000001% || Test set Accuracy:90.31% || λ= 50\n",
      "Training set Accuracy:91.834% || Validation set Accuracy:91.72% || Test set Accuracy:91.86999999999999% || λ= 50\n",
      "Training set Accuracy:92.572% || Validation set Accuracy:92.46% || Test set Accuracy:92.23% || λ= 50\n",
      "Training set Accuracy:92.572% || Validation set Accuracy:92.28% || Test set Accuracy:92.61% || λ= 50\n",
      "Training set Accuracy:70.092% || Validation set Accuracy:69.89999999999999% || Test set Accuracy:70.47% || λ= 60\n",
      "Training set Accuracy:90.036% || Validation set Accuracy:89.8% || Test set Accuracy:90.18% || λ= 60\n",
      "Training set Accuracy:91.732% || Validation set Accuracy:91.58% || Test set Accuracy:91.3% || λ= 60\n",
      "Training set Accuracy:91.51% || Validation set Accuracy:91.38% || Test set Accuracy:91.59% || λ= 60\n",
      "Training set Accuracy:92.402% || Validation set Accuracy:92.06% || Test set Accuracy:92.52% || λ= 60\n"
     ]
    }
   ],
   "source": [
    "\n",
    "featureIndices=[]\n",
    "\n",
    "train_data, train_label, validation_data, validation_label, test_data, test_label = preprocess()\n",
    "\n",
    "# Store values for all iterations\n",
    "totalTime = []\n",
    "\n",
    "train_accuracy=[]\n",
    "validation_accuracy=[]\n",
    "test_accuracy=[]\n",
    "\n",
    "l = []\n",
    "m = []\n",
    "\n",
    "grad_w1 = []\n",
    "grad_w2 = []\n",
    "\n",
    "n_input = train_data.shape[1]\n",
    "n_class = 10\n",
    "\n",
    "# Hyper-parameters\n",
    "\n",
    "lambdavalues    = np.arange(0,70,10)\n",
    "n_hidden_values = np.arange(4,24,4)\n",
    "\n",
    "\n",
    "for lambdavalue in lambdavalues:\n",
    "    \n",
    "    for n_hidden in n_hidden_values:\n",
    "\n",
    "        trainingStart = time.time()\n",
    "\n",
    "        initial_w1 = initializeWeights(n_input, n_hidden)\n",
    "        initial_w2 = initializeWeights(n_hidden, n_class)\n",
    "\n",
    "        initialWeights = np.concatenate((initial_w1.flatten(), initial_w2.flatten()), 0)\n",
    "        \n",
    "        args = (n_input, n_hidden, n_class, train_data, train_label, lambdavalue)\n",
    "\n",
    "        opts = {'maxiter': 50}  # Preferred value.\n",
    "\n",
    "        nn_params = minimize(nnObjFunction, initialWeights, jac=True, args=args, method='CG', options=opts)\n",
    "\n",
    "        # Reshape nnParams from 1D vector into w1 and w2 matrices\n",
    "        w1 = nn_params.x[0:n_hidden * (n_input + 1)].reshape((n_hidden, (n_input + 1)))\n",
    "        w2 = nn_params.x[(n_hidden * (n_input + 1)):].reshape((n_class, (n_hidden + 1)))\n",
    "\n",
    "\n",
    "        # Accuracy on Training Data\n",
    "        predicted_label = nnPredict(w1, w2, train_data)\n",
    "        print('Training set Accuracy:' + str(100 * np.mean((predicted_label == train_label).astype(float))) + '%', end=\" \")\n",
    "        \n",
    "        trc = str(100 * np.mean((predicted_label == train_label).astype(float)))\n",
    "        train_accuracy.append(float(trc))\n",
    "       \n",
    "\n",
    "        # Accuracy on Validation Data\n",
    "        predicted_label = nnPredict(w1, w2, validation_data)\n",
    "        print('|| Validation set Accuracy:' + str(100 * np.mean((predicted_label == validation_label).astype(float))) + '%', end=\" \")\n",
    "        \n",
    "        vc = str(100 * np.mean((predicted_label == validation_label).astype(float)))\n",
    "        validation_accuracy.append(float(vc))\n",
    "        \n",
    "        # Accuracy on Test Data\n",
    "        predicted_label = nnPredict(w1, w2, test_data)\n",
    "        print('|| Test set Accuracy:' + str(100 * np.mean((predicted_label == test_label).astype(float))) + '%', end=\" \")\n",
    "        \n",
    "        tec = str(100 * np.mean((predicted_label == test_label).astype(float)))\n",
    "        test_accuracy.append(float(tec))\n",
    "        \n",
    "        trainingEnd = time.time()\n",
    "\n",
    "        totalTime.append(trainingEnd-trainingStart)\n",
    "        m.append(n_hidden)\n",
    "        l.append(lambdavalue)\n",
    "        grad_w1.append(w1)\n",
    "        grad_w2.append(w2)\n",
    "        \n",
    "        print('|| λ=', lambdavalue)"
   ]
  },
  {
   "cell_type": "markdown",
   "metadata": {},
   "source": [
    "# <font color=blue> Plotting the results"
   ]
  },
  {
   "cell_type": "code",
   "execution_count": 10,
   "metadata": {},
   "outputs": [],
   "source": [
    "results = pd.DataFrame(np.column_stack([l, m, train_accuracy, validation_accuracy, test_accuracy, totalTime]), \n",
    "                      columns=['λ', 'm','Train_Accuracy', 'Validation_Accuracy', 'Test_Accuracy', 'Training_Time'])\n",
    "results = results.sort_values(by=['Test_Accuracy'], ascending=False)\n"
   ]
  },
  {
   "cell_type": "code",
   "execution_count": null,
   "metadata": {
    "scrolled": true
   },
   "outputs": [],
   "source": [
    "results.head(10)"
   ]
  },
  {
   "cell_type": "code",
   "execution_count": null,
   "metadata": {},
   "outputs": [],
   "source": [
    "optimal_lambda = results.iloc[0,0]\n",
    "optimal_m = results.iloc[0,1]\n",
    "\n",
    "print(\"Optimal Lambda :\",optimal_lambda)\n",
    "print(\"Optimal hidden units :\", optimal_m)"
   ]
  },
  {
   "cell_type": "code",
   "execution_count": null,
   "metadata": {},
   "outputs": [],
   "source": [
    "rows_with_optimal_lambda = results[results.λ == optimal_lambda]\n",
    "rows_with_optimal_m      = results[results.m == optimal_m]"
   ]
  },
  {
   "cell_type": "code",
   "execution_count": null,
   "metadata": {},
   "outputs": [],
   "source": [
    "rows_with_optimal_m"
   ]
  },
  {
   "cell_type": "code",
   "execution_count": null,
   "metadata": {},
   "outputs": [],
   "source": [
    "rows_with_optimal_m = rows_with_optimal_m.sort_values(by=['λ'])\n",
    "rows_with_optimal_m"
   ]
  },
  {
   "cell_type": "code",
   "execution_count": null,
   "metadata": {},
   "outputs": [],
   "source": [
    "rows_with_optimal_lambda"
   ]
  },
  {
   "cell_type": "code",
   "execution_count": null,
   "metadata": {},
   "outputs": [],
   "source": [
    "rows_with_optimal_lambda = rows_with_optimal_lambda.sort_values(by=['m'])\n",
    "rows_with_optimal_lambda"
   ]
  },
  {
   "cell_type": "markdown",
   "metadata": {},
   "source": [
    "## <font color=blue> Accuracy vs Number of Hidden Units"
   ]
  },
  {
   "cell_type": "code",
   "execution_count": null,
   "metadata": {},
   "outputs": [],
   "source": [
    "# Figure & Title\n",
    "plt.figure(figsize=(16,12))\n",
    "plt.title('Accuracy vs Number of Hidden Units (m)', pad=10, fontsize = 20, fontweight = 'bold')\n",
    "\n",
    "# Axis Labeling\n",
    "plt.xlabel('Number of Hidden Input (m)',labelpad=20, weight='bold', size=15)\n",
    "plt.ylabel('Accuracy', labelpad=20, weight='bold', size=15)\n",
    "\n",
    "# Axis ticks\n",
    "plt.xticks( np.arange( 4,56, step=4), fontsize = 15)\n",
    "plt.yticks( np.arange(70,95, step=2), fontsize = 15)\n",
    "\n",
    "plt.plot(rows_with_optimal_lambda.m, rows_with_optimal_lambda.Train_Accuracy,  color='g')\n",
    "plt.plot(rows_with_optimal_lambda.m, rows_with_optimal_lambda.Validation_Accuracy, color='b')\n",
    "plt.plot(rows_with_optimal_lambda.m, rows_with_optimal_lambda.Test_Accuracy,  color='r')\n",
    "\n",
    "ss = 'λ = ' + str(optimal_lambda) + ''\n",
    "plt.text(16,86, s=ss, fontsize=25)\n",
    "plt.legend(('Training Accuracy','Validation Accuracy','Testing Accuracy'),fontsize = 15)\n",
    "plt.show()"
   ]
  },
  {
   "cell_type": "code",
   "execution_count": null,
   "metadata": {},
   "outputs": [],
   "source": [
    "# Figure & Title\n",
    "plt.figure(figsize=(16,12))\n",
    "plt.title('Accuracy vs Number of Hidden Units (m)', pad=10, fontsize = 20, fontweight = 'bold')\n",
    "\n",
    "# Axis Labeling\n",
    "plt.xlabel('Number of Hidden Input (m)',labelpad=20, weight='bold', size=15)\n",
    "plt.ylabel('Accuracy', labelpad=20, weight='bold', size=15)\n",
    "\n",
    "# Axis ticks\n",
    "plt.xticks( np.arange( 4,56, step=4), fontsize = 15)\n",
    "plt.yticks( np.arange(70,95, step=2), fontsize = 15)\n",
    "\n",
    "plt.scatter(rows_with_optimal_lambda.m, rows_with_optimal_lambda.Train_Accuracy,  color='g')\n",
    "plt.scatter(rows_with_optimal_lambda.m, rows_with_optimal_lambda.Validation_Accuracy, color='b')\n",
    "plt.scatter(rows_with_optimal_lambda.m, rows_with_optimal_lambda.Test_Accuracy,  color='r')\n",
    "\n",
    "ss = 'λ = ' + str(optimal_lambda) + ''\n",
    "plt.text(16,86, s=ss, fontsize=25)\n",
    "plt.legend(('Training Accuracy','Validation Accuracy','Testing Accuracy'),fontsize = 15)\n",
    "plt.show()"
   ]
  },
  {
   "cell_type": "markdown",
   "metadata": {},
   "source": [
    "## <font color=blue> Training Time vs Number of Hidden Units"
   ]
  },
  {
   "cell_type": "code",
   "execution_count": null,
   "metadata": {},
   "outputs": [],
   "source": [
    "# Figure & Title\n",
    "plt.figure(figsize=(16,12))\n",
    "plt.title('Training_Time vs Number of Hidden Units(m)', pad=10, fontsize = 20, fontweight = 'bold')\n",
    "\n",
    "# Axis Labeling\n",
    "plt.xlabel('Number of Hidden Input',labelpad=20, weight='bold', size=15)\n",
    "plt.ylabel('Training_Time', labelpad=20, weight='bold', size=15)\n",
    "\n",
    "# Axis ticks\n",
    "plt.xticks( np.arange( 4,56, step=4), fontsize = 15)\n",
    "plt.yticks( fontsize = 15)\n",
    "\n",
    "ss = 'λ = ' + str(optimal_lambda) + ''\n",
    "plt.text(8,24.25, s=ss, fontsize=25)\n",
    "plt.plot(rows_with_optimal_lambda.m, rows_with_optimal_lambda.Training_Time,  color='c')\n",
    "\n",
    "plt.show()"
   ]
  },
  {
   "cell_type": "markdown",
   "metadata": {},
   "source": [
    "## <font color=blue> Accuracy vs Lamda"
   ]
  },
  {
   "cell_type": "code",
   "execution_count": null,
   "metadata": {},
   "outputs": [],
   "source": [
    "# Figure & Title\n",
    "plt.figure(figsize=(16,12))\n",
    "plt.title('Accuracy vs λ', pad=10, fontsize = 20, fontweight = 'bold')\n",
    "\n",
    "# Axis Labeling\n",
    "plt.xlabel('λ'        ,labelpad=20, weight='bold', size=15)\n",
    "plt.ylabel('Accuracy', labelpad=20, weight='bold', size=15)\n",
    "\n",
    "# Axis ticks\n",
    "plt.xticks( np.arange( 0,65, step=5), fontsize = 15)\n",
    "plt.yticks( fontsize = 15)\n",
    "\n",
    "plt.plot(rows_with_optimal_m.λ, rows_with_optimal_m.Train_Accuracy,  color='g')\n",
    "plt.plot(rows_with_optimal_m.λ, rows_with_optimal_m.Validation_Accuracy, color='b')\n",
    "plt.plot(rows_with_optimal_m.λ, rows_with_optimal_m.Test_Accuracy,  color='r')\n",
    "\n",
    "ss = 'm = ' + str(optimal_m) + ''\n",
    "plt.text(10,93.5, s=ss, fontsize=25)\n",
    "plt.legend(('Training Accuracy','Validation Accuracy','Testing Accuracy'),fontsize = 15)\n",
    "plt.show()"
   ]
  },
  {
   "cell_type": "code",
   "execution_count": null,
   "metadata": {},
   "outputs": [],
   "source": [
    "len(featureIndices)"
   ]
  },
  {
   "cell_type": "code",
   "execution_count": null,
   "metadata": {},
   "outputs": [],
   "source": []
  },
  {
   "cell_type": "markdown",
   "metadata": {},
   "source": [
    "# <font color = green> Pickle object Creation with Optimal parameters"
   ]
  },
  {
   "cell_type": "code",
   "execution_count": null,
   "metadata": {},
   "outputs": [],
   "source": [
    "# set the number of nodes in input unit (not including bias unit)\n",
    "n_input = train_data.shape[1]\n",
    "\n",
    "# set the number of nodes in hidden unit (not including bias unit)\n",
    "n_hidden = 20\n",
    "\n",
    "# set the number of nodes in output unit\n",
    "n_class = 10\n",
    "\n",
    "# initialize the weights into some random matrices\n",
    "initial_w1 = initializeWeights(n_input, n_hidden)\n",
    "initial_w2 = initializeWeights(n_hidden, n_class)\n",
    "\n",
    "# unroll 2 weight matrices into single column vector\n",
    "initialWeights = np.concatenate((initial_w1.flatten(), initial_w2.flatten()), 0)\n",
    "\n",
    "# set the regularization hyper-parameter\n",
    "lambdaval = 30\n",
    "\n",
    "args = (n_input, n_hidden, n_class, train_data, train_label, lambdaval)\n",
    "\n",
    "# Train Neural Network using fmin_cg or minimize from scipy,optimize module. Check documentation for a working example\n",
    "\n",
    "opts = {'maxiter': 50}  # Preferred value.\n",
    "\n",
    "nn_params = minimize(nnObjFunction, initialWeights, jac=True, args=args, method='CG', options=opts)\n",
    "\n",
    "# In Case you want to use fmin_cg, you may have to split the nnObjectFunction to two functions nnObjFunctionVal\n",
    "# and nnObjGradient. Check documentation for this function before you proceed.\n",
    "# nn_params, cost = fmin_cg(nnObjFunctionVal, initialWeights, nnObjGradient,args = args, maxiter = 50)\n",
    "\n",
    "\n",
    "# Reshape nnParams from 1D vector into w1 and w2 matrices\n",
    "w1 = nn_params.x[0:n_hidden * (n_input + 1)].reshape((n_hidden, (n_input + 1)))\n",
    "w2 = nn_params.x[(n_hidden * (n_input + 1)):].reshape((n_class, (n_hidden + 1)))\n",
    "\n",
    "# Test the computed parameters\n",
    "\n",
    "predicted_label = nnPredict(w1, w2, train_data)\n",
    "\n",
    "# find the accuracy on Training Dataset\n",
    "\n",
    "print('\\n Training set Accuracy:' + str(100 * np.mean((predicted_label == train_label).astype(float))) + '%')\n",
    "\n",
    "predicted_label = nnPredict(w1, w2, validation_data)\n",
    "\n",
    "# find the accuracy on Validation Dataset\n",
    "\n",
    "print('\\n Validation set Accuracy:' + str(100 * np.mean((predicted_label == validation_label).astype(float))) + '%')\n",
    "\n",
    "predicted_label = nnPredict(w1, w2, test_data)\n",
    "\n",
    "# find the accuracy on Validation Dataset\n",
    "\n",
    "print('\\n Test set Accuracy:' + str(100 * np.mean((predicted_label == test_label).astype(float))) + '%')"
   ]
  },
  {
   "cell_type": "code",
   "execution_count": null,
   "metadata": {},
   "outputs": [],
   "source": [
    "len(w1)"
   ]
  },
  {
   "cell_type": "code",
   "execution_count": null,
   "metadata": {},
   "outputs": [],
   "source": [
    "len(w2)"
   ]
  },
  {
   "cell_type": "code",
   "execution_count": null,
   "metadata": {},
   "outputs": [],
   "source": [
    "parameters = [featureIndices, int(optimal_m), w1, w2, int(optimal_lambda)]\n",
    "pickle.dump(parameters, open('params.pickle', 'wb'))"
   ]
  },
  {
   "cell_type": "code",
   "execution_count": null,
   "metadata": {},
   "outputs": [],
   "source": [
    "pickle_obj = pickle.load(file=open('params.pickle', 'rb'))"
   ]
  },
  {
   "cell_type": "code",
   "execution_count": null,
   "metadata": {},
   "outputs": [],
   "source": [
    "pickle_obj[4]"
   ]
  }
 ],
 "metadata": {
  "kernelspec": {
   "display_name": "Python 3",
   "language": "python",
   "name": "python3"
  },
  "language_info": {
   "codemirror_mode": {
    "name": "ipython",
    "version": 3
   },
   "file_extension": ".py",
   "mimetype": "text/x-python",
   "name": "python",
   "nbconvert_exporter": "python",
   "pygments_lexer": "ipython3",
   "version": "3.7.1"
  }
 },
 "nbformat": 4,
 "nbformat_minor": 2
}
