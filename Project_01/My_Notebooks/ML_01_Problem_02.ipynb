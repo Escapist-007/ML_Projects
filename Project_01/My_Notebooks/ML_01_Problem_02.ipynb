{
 "cells": [
  {
   "cell_type": "markdown",
   "metadata": {},
   "source": [
    "# <font color=blue> Problem_02 : \n",
    "### <font color=red>Experiment with Linear Regression"
   ]
  },
  {
   "cell_type": "markdown",
   "metadata": {},
   "source": [
    "### Explore Dataset"
   ]
  },
  {
   "cell_type": "code",
   "execution_count": 41,
   "metadata": {},
   "outputs": [],
   "source": [
    "import numpy as np\n",
    "from scipy.optimize import minimize\n",
    "from scipy.io import loadmat\n",
    "from numpy.linalg import det, inv\n",
    "from math import sqrt, pi\n",
    "import scipy.io\n",
    "import matplotlib.pyplot as plt\n",
    "import pickle\n",
    "import sys"
   ]
  },
  {
   "cell_type": "code",
   "execution_count": 35,
   "metadata": {},
   "outputs": [],
   "source": [
    "X,y,Xtest,ytest = pickle.load(open('diabetes.pickle','rb'),encoding = 'latin1')\n",
    "\n",
    "# X --> Xtrain ( 242 by 64) --> Input data matrix\n",
    "# y --> Ytrain ( 242 by 1)  --> Target vector\n",
    "\n",
    "# Xtest --> ( 200 by 64 ) --> Testing\n",
    "# ytest --> ( 200 by 1 )  --> Testing\n",
    "\n",
    "# So, X and y will be used for training"
   ]
  },
  {
   "cell_type": "code",
   "execution_count": 36,
   "metadata": {},
   "outputs": [
    {
     "name": "stdout",
     "output_type": "stream",
     "text": [
      "Shpae of Xtrain :  (242, 64)\n",
      "Shpae of ytrain :  (242, 1)\n",
      "---------------------------\n",
      "Shpae of Xtest :  (200, 64)\n",
      "Shpae of ytest :  (200, 1)\n"
     ]
    }
   ],
   "source": [
    "print(\"Shpae of Xtrain : \",X.shape)\n",
    "print(\"Shpae of ytrain : \",y.shape)\n",
    "print(\"---------------------------\")\n",
    "print(\"Shpae of Xtest : \",Xtest.shape)\n",
    "print(\"Shpae of ytest : \",ytest.shape)"
   ]
  },
  {
   "cell_type": "markdown",
   "metadata": {},
   "source": [
    "### Tasks :\n",
    "- #### Implement <font color = blue >learnOLERegression ( )\n",
    "- #### Implement <font color = blue >testOLERegression ( ) "
   ]
  },
  {
   "cell_type": "code",
   "execution_count": 37,
   "metadata": {},
   "outputs": [],
   "source": [
    "def learnOLERegression(X,y):\n",
    "    '''\n",
    "    Inputs:                                                         \n",
    "          X = N x d  (Input data matrix for training)\n",
    "          y = N x 1  (Target vector for training)                                                            \n",
    "    Output: \n",
    "          w = d x 1   (Learned weight vector)\n",
    "    '''\n",
    "    \n",
    "    # The formula for learning w in OLE : w = Inverse((Xtranspose * X)) * Xtranspose * y\n",
    "\n",
    "    X_transpose   = np.transpose(X)\n",
    "    X_X_transpose = np.dot(X_transpose,X)\n",
    "    Inverse_X_X_transpose = np.linalg.inv(X_X_transpose) \n",
    "    \n",
    "    w = np.dot(np.dot(Inverse_X_X_transpose,X_transpose),y)\n",
    "    \n",
    "    return w"
   ]
  },
  {
   "cell_type": "code",
   "execution_count": 38,
   "metadata": {},
   "outputs": [],
   "source": [
    "def testOLERegression(w,Xtest,ytest):\n",
    "    '''\n",
    "    Inputs:\n",
    "        w = d x 1\n",
    "        Xtest = N x d\n",
    "        ytest = X x 1\n",
    "    Output:\n",
    "        mse\n",
    "    '''\n",
    "    y_predict = np.dot(Xtest,w)\n",
    "    \n",
    "    diff = (ytest - y_predict)    \n",
    "    diff_transpose = np.transpose(diff)\n",
    "    N = 1 /len(Xtest)\n",
    "    \n",
    "    mse = np.dot( np.dot(N,diff_transpose), diff )\n",
    "    \n",
    "    return mse"
   ]
  },
  {
   "cell_type": "markdown",
   "metadata": {},
   "source": [
    "### Main Code"
   ]
  },
  {
   "cell_type": "code",
   "execution_count": 39,
   "metadata": {},
   "outputs": [
    {
     "name": "stdout",
     "output_type": "stream",
     "text": [
      "Test Data\n",
      "----------\n",
      "MSE without intercept [[106775.36155592]]\n",
      "MSE with intercept [[3707.84018177]]\n",
      "\n",
      "\n",
      "Train Data\n",
      "----------\n",
      "MSE without intercept [[19099.44684457]]\n",
      "MSE with intercept [[2187.16029493]]\n"
     ]
    }
   ],
   "source": [
    "# add intercept \n",
    "X_i     = np.concatenate((np.ones((X.shape[0],1)), X), axis=1)\n",
    "Xtest_i = np.concatenate((np.ones((Xtest.shape[0],1)), Xtest), axis=1)\n",
    "\n",
    "# Learn weight vector w from training data\n",
    "\n",
    "w   = learnOLERegression(X,y)     # without intercept\n",
    "w_i = learnOLERegression(X_i,y)   # with intercept\n",
    "\n",
    "print(\"Test Data\")\n",
    "print(\"----------\")\n",
    "\n",
    "mle   = testOLERegression(w,Xtest,ytest)\n",
    "mle_i = testOLERegression(w_i,Xtest_i,ytest)\n",
    "\n",
    "print('MSE without intercept '+str(mle))\n",
    "print('MSE with intercept '+str(mle_i))\n",
    "\n",
    "print(\"\\n\")\n",
    " \n",
    "print(\"Train Data\")\n",
    "print(\"----------\")\n",
    "\n",
    "mle   = testOLERegression(w,X,y)\n",
    "mle_i = testOLERegression(w_i,X_i,y)\n",
    "\n",
    "print('MSE without intercept '+str(mle))\n",
    "print('MSE with intercept '+str(mle_i))\n"
   ]
  },
  {
   "cell_type": "markdown",
   "metadata": {},
   "source": [
    "# <font color=blue> Report"
   ]
  },
  {
   "cell_type": "markdown",
   "metadata": {},
   "source": [
    "## <font color=green>Case 01 : Without  an intercept "
   ]
  },
  {
   "cell_type": "markdown",
   "metadata": {},
   "source": [
    "#### MSE for test data : <font color=blue>  106775.36155592\n",
    "\n",
    "#### MSE for training data : <font color=blue>  19099.44684457"
   ]
  },
  {
   "cell_type": "markdown",
   "metadata": {},
   "source": [
    "## <font color=green>Case 01 : With an intercept "
   ]
  },
  {
   "cell_type": "markdown",
   "metadata": {},
   "source": [
    "#### MSE for test data : <font color=blue>  3707.84018177\n",
    "\n",
    "#### MSE for training data : <font color=blue>  2187.16029493"
   ]
  },
  {
   "cell_type": "markdown",
   "metadata": {},
   "source": [
    "### <font color = red> MSE is lower for the second case (using intercept) both for training data and test data. So, for the given dataset it is better to use an intercept for learning the weight vector for regression. Also we can observe that when we are using the intercept then the change in MSE is higher for the test data."
   ]
  },
  {
   "cell_type": "code",
   "execution_count": null,
   "metadata": {},
   "outputs": [],
   "source": []
  },
  {
   "cell_type": "code",
   "execution_count": null,
   "metadata": {},
   "outputs": [],
   "source": []
  }
 ],
 "metadata": {
  "kernelspec": {
   "display_name": "Python 3",
   "language": "python",
   "name": "python3"
  },
  "language_info": {
   "codemirror_mode": {
    "name": "ipython",
    "version": 3
   },
   "file_extension": ".py",
   "mimetype": "text/x-python",
   "name": "python",
   "nbconvert_exporter": "python",
   "pygments_lexer": "ipython3",
   "version": "3.7.1"
  }
 },
 "nbformat": 4,
 "nbformat_minor": 2
}
